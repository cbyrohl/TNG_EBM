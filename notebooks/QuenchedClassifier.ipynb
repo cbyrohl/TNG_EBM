{
 "cells": [
  {
   "cell_type": "markdown",
   "id": "ead0597e7e425283",
   "metadata": {},
   "source": [
    "# What makes a galaxy quenched in TNG?\n"
   ]
  },
  {
   "cell_type": "code",
   "execution_count": null,
   "id": "initial_id",
   "metadata": {},
   "outputs": [],
   "source": [
    "from scida import load\n",
    "import pandas as pd\n",
    "import numpy as np\n",
    "# load your favorite cosmological simulation snapshot\n",
    "#ds = load(\"/data/cbyrohl/cosmosTNG/areporuns/cosmosTNG-2_Dec23-3/output/snapdir_033\")\n",
    "ds = load(\"TNG50-2_snapshot\")\n",
    "# dictionary of in-memory fields we want to run on\n",
    "qdict = {k: ds.data[\"Subhalo\"][k].compute().magnitude for k in [\"SubhaloMass\", \"SubhaloVelDisp\", \"SubhaloGasMetallicity\", \"SubhaloBHMass\"]}\n",
    "qdict[\"SubhaloStellarMass\"] = ds.data[\"Subhalo\"][\"SubhaloMassType\"][:, 4].compute().magnitude\n",
    "# most quantities should be log10 because of their dynamic range, replace them\n",
    "log10quants = [\"SubhaloMass\", \"SubhaloBHMass\", \"SubhaloGasMetallicity\", \"SubhaloStellarMass\", \"SubhaloVelDisp\"]\n",
    "for k in log10quants:\n",
    "    q = qdict.pop(k)\n",
    "    q[q==0] = 1e-99\n",
    "    qdict[k+\"_log10\"] = np.log10(q)\n",
    "df = pd.DataFrame.from_dict(qdict)"
   ]
  },
  {
   "cell_type": "code",
   "execution_count": null,
   "id": "16d4a0526b3ec58d",
   "metadata": {},
   "outputs": [],
   "source": [
    "sm = ds.data[\"Subhalo\"][\"SubhaloMassType\"][:, 4].to(\"Msun\").compute().magnitude\n",
    "sm = np.where(sm > 0, sm, 1e-10)\n",
    "ssfr = ds.data[\"Subhalo\"][\"SubhaloSFR\"].to(\"Msun/yr\").compute().magnitude / sm\n",
    "X = df.iloc[:, :-1]"
   ]
  },
  {
   "cell_type": "code",
   "execution_count": null,
   "id": "fb01b995e1ab42fb",
   "metadata": {},
   "outputs": [],
   "source": [
    "# y: quenched or not\n",
    "y = np.where(ssfr < 1e-11, 1, 0)"
   ]
  },
  {
   "cell_type": "code",
   "execution_count": null,
   "id": "6b3baa00b5ce49b2",
   "metadata": {},
   "outputs": [],
   "source": [
    "import numpy as np\n",
    "from sklearn.model_selection import train_test_split\n",
    "\n",
    "from interpret import set_visualize_provider\n",
    "\n",
    "seed = 42\n",
    "np.random.seed(seed)\n",
    "X_train, X_test, y_train, y_test = train_test_split(X, y, test_size=0.20, random_state=seed)"
   ]
  },
  {
   "cell_type": "code",
   "execution_count": null,
   "id": "96ae2bd6da185700",
   "metadata": {},
   "outputs": [],
   "source": [
    "from interpret.provider import InlineProvider, DashProvider\n",
    "set_visualize_provider(DashProvider.from_address(('127.0.0.1', 7001)))\n",
    "#set_visualize_provider(InlineProvider())"
   ]
  },
  {
   "cell_type": "code",
   "execution_count": null,
   "id": "d0dfeda7e8eaced4",
   "metadata": {},
   "outputs": [],
   "source": [
    "from interpret.glassbox import ExplainableBoostingClassifier\n",
    "ebm = ExplainableBoostingClassifier()\n",
    "ebm.fit(X_train, y_train)"
   ]
  },
  {
   "cell_type": "code",
   "execution_count": null,
   "id": "257877587296a585",
   "metadata": {},
   "outputs": [],
   "source": [
    "from interpret import show\n",
    "show(ebm.explain_global())"
   ]
  }
 ],
 "metadata": {
  "kernelspec": {
   "display_name": "Python 3",
   "language": "python",
   "name": "python3"
  },
  "language_info": {
   "codemirror_mode": {
    "name": "ipython",
    "version": 2
   },
   "file_extension": ".py",
   "mimetype": "text/x-python",
   "name": "python",
   "nbconvert_exporter": "python",
   "pygments_lexer": "ipython2",
   "version": "2.7.6"
  }
 },
 "nbformat": 4,
 "nbformat_minor": 5
}
